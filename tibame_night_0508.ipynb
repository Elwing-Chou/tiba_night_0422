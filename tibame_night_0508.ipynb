{
  "nbformat": 4,
  "nbformat_minor": 0,
  "metadata": {
    "colab": {
      "provenance": [],
      "authorship_tag": "ABX9TyPonqkvR49m2dakb91TTKC5",
      "include_colab_link": true
    },
    "kernelspec": {
      "name": "python3",
      "display_name": "Python 3"
    },
    "language_info": {
      "name": "python"
    }
  },
  "cells": [
    {
      "cell_type": "markdown",
      "metadata": {
        "id": "view-in-github",
        "colab_type": "text"
      },
      "source": [
        "<a href=\"https://colab.research.google.com/github/Elwing-Chou/tiba_night_0422/blob/main/tibame_night_0508.ipynb\" target=\"_parent\"><img src=\"https://colab.research.google.com/assets/colab-badge.svg\" alt=\"Open In Colab\"/></a>"
      ]
    },
    {
      "cell_type": "markdown",
      "source": [],
      "metadata": {
        "id": "hwysn2M14UGL"
      }
    },
    {
      "cell_type": "markdown",
      "source": [
        "\n",
        "\n",
        "```\n",
        "WIN: -headers \"Origin: https://ani.gamer.com.tw\" -i \"\" anime.mp4\n",
        "\n",
        "MAC: -headers 'Origin: https://ani.gamer.com.tw' -i '' anime.mp4\n",
        "\n",
        "ffmpeg(用拉的) 複製並且把-i後面的\"\"填入m3u8\n",
        "```\n",
        "\n"
      ],
      "metadata": {
        "id": "8y4OmqyD0RSN"
      }
    },
    {
      "cell_type": "markdown",
      "source": [
        "\n",
        "\n",
        "```\n",
        "以前非常容易出現亂碼: 編和解用了不同套\n",
        "但現在只有唯一一套編碼:Unicode(utf-8)\n",
        "\n",
        "但windows系統的預設編碼:ANSI(繁體:BIG5)\n",
        "\n",
        "```\n",
        "\n"
      ],
      "metadata": {
        "id": "BoENh6uD-F5c"
      }
    },
    {
      "cell_type": "code",
      "source": [
        "f = open(\"a.txt\", \"w\", encoding=\"utf-8\")\n",
        "# 以前: write(f, \"abcde\")\n",
        "# 專屬功能: f.write(\"abcde\")\n",
        "# 打不出來的字:  \\符號 \\n:換行 \\t:TAB\n",
        "f.write(\"abcde\\n\")\n",
        "f.write(\"fgwerwq\")\n",
        "# 以前: close(f)\n",
        "f.close()"
      ],
      "metadata": {
        "id": "c7900by28eJb"
      },
      "execution_count": 3,
      "outputs": []
    },
    {
      "cell_type": "code",
      "source": [
        "f = open(\"a.txt\", \"r\", encoding=\"utf-8\")\n",
        "# 以前: content = read(f)\n",
        "content = f.read()\n",
        "print(content)\n",
        "f.close()"
      ],
      "metadata": {
        "colab": {
          "base_uri": "https://localhost:8080/"
        },
        "id": "8riOwea-C_aJ",
        "outputId": "1b665f2e-0914-41cb-f195-b54b855e6f30"
      },
      "execution_count": 4,
      "outputs": [
        {
          "output_type": "stream",
          "name": "stdout",
          "text": [
            "abcde\n",
            "fgwerwq\n"
          ]
        }
      ]
    }
  ]
}