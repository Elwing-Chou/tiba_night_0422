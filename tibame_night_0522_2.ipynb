{
  "nbformat": 4,
  "nbformat_minor": 0,
  "metadata": {
    "colab": {
      "provenance": [],
      "mount_file_id": "1DqZe852G-ZHdcFppuQ4bHp27mGlONdms",
      "authorship_tag": "ABX9TyNJ8yjIfifO5qONxnW/MWvk",
      "include_colab_link": true
    },
    "kernelspec": {
      "name": "python3",
      "display_name": "Python 3"
    },
    "language_info": {
      "name": "python"
    }
  },
  "cells": [
    {
      "cell_type": "markdown",
      "metadata": {
        "id": "view-in-github",
        "colab_type": "text"
      },
      "source": [
        "<a href=\"https://colab.research.google.com/github/Elwing-Chou/tiba_night_0422/blob/main/tibame_night_0522_2.ipynb\" target=\"_parent\"><img src=\"https://colab.research.google.com/assets/colab-badge.svg\" alt=\"Open In Colab\"/></a>"
      ]
    },
    {
      "cell_type": "markdown",
      "source": [
        "\n",
        "\n",
        "```\n",
        "HTTP代碼\n",
        "1. 2開頭: 成功\n",
        "2. 3開頭: 轉址\n",
        "3. 4開頭: 錯誤\n",
        "404: NOT FOUND\n",
        "403: FORBIDDEN\n",
        "1. ip ban\n",
        "2. 缺少了一些很重要的headers\n",
        "```\n",
        "\n"
      ],
      "metadata": {
        "id": "Bgw2drl8CPwd"
      }
    },
    {
      "cell_type": "markdown",
      "source": [
        "\n",
        "\n",
        "```\n",
        "沒有class讓你篩選\n",
        "1. 找他老爸\n",
        "2. 自己寫篩選\n",
        "\n",
        "```\n",
        "\n"
      ],
      "metadata": {
        "id": "6X6cetkuIOiG"
      }
    },
    {
      "cell_type": "code",
      "execution_count": 14,
      "metadata": {
        "id": "0wQoTXmzBI8u"
      },
      "outputs": [],
      "source": [
        "import urllib.request as req\n",
        "import bs4\n",
        "import os\n",
        "\n",
        "url = \"https://www.ptt.cc/bbs/Beauty/M.1747794743.A.FA0.html\"\n",
        "dn = url.split(\"/\")[-1]\n",
        "# dn = \"/content/drive/MyDrive/ptt/\" + url.split(\"/\")[-1]\n",
        "if not os.path.exists(dn):\n",
        "    os.makedirs(dn)\n",
        "\n",
        "r = req.Request(url)\n",
        "r.add_header(\"User-Agent\", \"Mozilla/5.0 (Windows NT 10.0; Win64; x64) AppleWebKit/537.36 (KHTML, like Gecko) Chrome/136.0.0.0 Safari/537.36\")\n",
        "resp = req.urlopen(r)\n",
        "content = resp.read()\n",
        "html = bs4.BeautifulSoup(content)\n",
        "\n",
        "allow_subs = [\"jpg\", \"jpeg\", \"png\", \"gif\"]\n",
        "links = html.find_all(\"a\")\n",
        "for link in links:\n",
        "    link_href = link[\"href\"]\n",
        "    sub = link_href.split(\".\")[-1]\n",
        "    if sub.lower() in allow_subs:\n",
        "        img_url = link_href\n",
        "        r = req.Request(img_url)\n",
        "        r.add_header(\"User-Agent\", \"Mozilla/5.0 (Windows NT 10.0; Win64; x64) AppleWebKit/537.36 (KHTML, like Gecko) Chrome/136.0.0.0 Safari/537.36\")\n",
        "        resp = req.urlopen(r)\n",
        "        img = resp.read()\n",
        "\n",
        "        fn = img_url.split(\"/\")[-1]\n",
        "        fn = dn + \"/\" + fn\n",
        "        # !!!! 純文字: \"w\"/\"r\" + encoding=\"utf-8\"\n",
        "        # !!!! 非純文字: \"wb\"/\"rb\"\n",
        "        f = open(fn, \"wb\")\n",
        "        f.write(img)\n",
        "        f.close()"
      ]
    },
    {
      "cell_type": "code",
      "source": [
        "import os\n",
        "\n",
        "if not os.path.exists(\"a/b\"):\n",
        "    os.makedirs(\"a/b\")\n",
        "\n",
        "f = open(\"a/b/c.txt\", \"w\", encoding=\"utf-8\")\n",
        "f.write(\"Adsfasfd\")\n",
        "f.close()"
      ],
      "metadata": {
        "id": "7XLZIuAkNTBu"
      },
      "execution_count": 11,
      "outputs": []
    },
    {
      "cell_type": "code",
      "source": [
        "!zip -r /content/file.zip /content/M.1747794743.A.FA0.html\n"
      ],
      "metadata": {
        "id": "zR6UyaIsPyb2"
      },
      "execution_count": null,
      "outputs": []
    }
  ]
}