{
  "nbformat": 4,
  "nbformat_minor": 0,
  "metadata": {
    "colab": {
      "provenance": [],
      "authorship_tag": "ABX9TyOld5USw2T9TLs+jwlOXGeq",
      "include_colab_link": true
    },
    "kernelspec": {
      "name": "python3",
      "display_name": "Python 3"
    },
    "language_info": {
      "name": "python"
    }
  },
  "cells": [
    {
      "cell_type": "markdown",
      "metadata": {
        "id": "view-in-github",
        "colab_type": "text"
      },
      "source": [
        "<a href=\"https://colab.research.google.com/github/Elwing-Chou/tiba_night_0422/blob/main/tibame_night_0522_2.ipynb\" target=\"_parent\"><img src=\"https://colab.research.google.com/assets/colab-badge.svg\" alt=\"Open In Colab\"/></a>"
      ]
    },
    {
      "cell_type": "markdown",
      "source": [
        "\n",
        "\n",
        "```\n",
        "HTTP代碼\n",
        "1. 2開頭: 成功\n",
        "2. 3開頭: 轉址\n",
        "3. 4開頭: 錯誤\n",
        "404: NOT FOUND\n",
        "403: FORBIDDEN\n",
        "1. ip ban\n",
        "2. 缺少了一些很重要的headers\n",
        "```\n",
        "\n"
      ],
      "metadata": {
        "id": "Bgw2drl8CPwd"
      }
    },
    {
      "cell_type": "markdown",
      "source": [
        "\n",
        "\n",
        "```\n",
        "沒有class讓你篩選\n",
        "1. 找他老爸\n",
        "2. 自己寫篩選\n",
        "\n",
        "```\n",
        "\n"
      ],
      "metadata": {
        "id": "6X6cetkuIOiG"
      }
    },
    {
      "cell_type": "code",
      "execution_count": 7,
      "metadata": {
        "colab": {
          "base_uri": "https://localhost:8080/"
        },
        "id": "0wQoTXmzBI8u",
        "outputId": "f39edb8c-32b6-4491-ff18-c75cb08f007d"
      },
      "outputs": [
        {
          "output_type": "stream",
          "name": "stdout",
          "text": [
            "http://i.imgur.com/aAmXkcY.jpg\n",
            "http://i.imgur.com/D9qSuJU.jpg\n",
            "http://i.imgur.com/NHGhuiu.jpg\n",
            "http://i.imgur.com/M0ampKC.jpg\n",
            "http://i.imgur.com/FK8L99I.jpg\n",
            "http://i.imgur.com/ICAKUDv.jpg\n",
            "http://i.imgur.com/IB1c4bp.jpg\n",
            "http://i.imgur.com/SHpCwUq.jpg\n",
            "http://i.imgur.com/lIKrcXm.jpg\n",
            "http://i.imgur.com/mCwTvq0.jpg\n",
            "http://i.imgur.com/tDXi89E.jpg\n",
            "http://i.imgur.com/5i16dUC.jpg\n",
            "http://i.imgur.com/oTI12Fd.jpg\n",
            "http://i.imgur.com/JEISJbV.jpg\n"
          ]
        }
      ],
      "source": [
        "import urllib.request as req\n",
        "import bs4\n",
        "\n",
        "url = \"https://www.ptt.cc/bbs/Beauty/M.1747794743.A.FA0.html\"\n",
        "r = req.Request(url)\n",
        "r.add_header(\"User-Agent\", \"Mozilla/5.0 (Windows NT 10.0; Win64; x64) AppleWebKit/537.36 (KHTML, like Gecko) Chrome/136.0.0.0 Safari/537.36\")\n",
        "resp = req.urlopen(r)\n",
        "content = resp.read()\n",
        "html = bs4.BeautifulSoup(content)\n",
        "\n",
        "allow_subs = [\"jpg\", \"jpeg\", \"png\", \"gif\"]\n",
        "links = html.find_all(\"a\")\n",
        "for link in links:\n",
        "    link_href = link[\"href\"]\n",
        "    sub = link_href.split(\".\")[-1]\n",
        "    if sub.lower() in allow_subs:\n",
        "        img_url = link_href\n",
        "        print(img_url)"
      ]
    }
  ]
}