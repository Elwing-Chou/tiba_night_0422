{
  "nbformat": 4,
  "nbformat_minor": 0,
  "metadata": {
    "colab": {
      "provenance": [],
      "authorship_tag": "ABX9TyOEnFINgTZy1kLTTUhc9NV1",
      "include_colab_link": true
    },
    "kernelspec": {
      "name": "python3",
      "display_name": "Python 3"
    },
    "language_info": {
      "name": "python"
    }
  },
  "cells": [
    {
      "cell_type": "markdown",
      "metadata": {
        "id": "view-in-github",
        "colab_type": "text"
      },
      "source": [
        "<a href=\"https://colab.research.google.com/github/Elwing-Chou/tiba_night_0422/blob/main/tibame_0506.ipynb\" target=\"_parent\"><img src=\"https://colab.research.google.com/assets/colab-badge.svg\" alt=\"Open In Colab\"/></a>"
      ]
    },
    {
      "cell_type": "markdown",
      "source": [
        "```\n",
        "密碼學\n",
        "1. 凱薩密碼: 寫的時候固定往後位移\n",
        "\n",
        "2. 維吉尼亞密碼:\n",
        "a b c d .... z\n",
        "d z f g\n",
        "26 * 25 * 24 * 23 ... 1 = 26!\n",
        "數字母出現次數: 字母頻率\n",
        "\n",
        "3.Enigma\n",
        "對照表1: a-z->轉換\n",
        "     2\n",
        "     3\n",
        "     4\n",
        "     5\n",
        "\n",
        "apple\n",
        "123451\n",
        "\n",
        "Alan Turing(圖靈): 模仿遊戲\n",
        "```"
      ],
      "metadata": {
        "id": "ULG6f0VaV10m"
      }
    },
    {
      "cell_type": "code",
      "execution_count": 3,
      "metadata": {
        "colab": {
          "base_uri": "https://localhost:8080/"
        },
        "id": "qXspvmwwVwou",
        "outputId": "d94d5ed9-2e26-4d02-a6a3-b054eb7bea56"
      },
      "outputs": [
        {
          "output_type": "stream",
          "name": "stdout",
          "text": [
            "a 出現 1 次\n",
            "b 出現 0 次\n",
            "c 出現 0 次\n",
            "d 出現 0 次\n",
            "e 出現 2 次\n",
            "f 出現 1 次\n",
            "g 出現 0 次\n",
            "h 出現 0 次\n",
            "i 出現 0 次\n",
            "j 出現 0 次\n",
            "k 出現 0 次\n",
            "l 出現 0 次\n",
            "m 出現 0 次\n",
            "n 出現 0 次\n",
            "o 出現 0 次\n",
            "p 出現 0 次\n",
            "q 出現 2 次\n",
            "r 出現 2 次\n",
            "s 出現 0 次\n",
            "t 出現 0 次\n",
            "u 出現 0 次\n",
            "v 出現 0 次\n",
            "w 出現 2 次\n",
            "x 出現 0 次\n",
            "y 出現 0 次\n",
            "z 出現 0 次\n"
          ]
        }
      ],
      "source": [
        "s = \"aerqwrqwef\"\n",
        "counts = [0] * 26\n",
        "i = 0\n",
        "while i < len(s):\n",
        "    c = s[i]\n",
        "    # print(c)\n",
        "    # 事實上你的字母存在你的電腦\n",
        "    # ASCII編碼: a->0101010\n",
        "    # ord(\"a\") -> 97\n",
        "    n = ord(c) - ord(\"a\")\n",
        "    # 轉換成編碼, 然後統計出現次數\n",
        "    counts[n] = counts[n] + 1\n",
        "    # print(c, n, counts)\n",
        "    i = i + 1\n",
        "# 幫我印的漂亮點(26次的迴圈)\n",
        "# a: 3次\n",
        "i = 0\n",
        "while i < 26:\n",
        "    n = counts[i]\n",
        "    alpha = chr(i + ord(\"a\"))\n",
        "    print(alpha, \"出現\", n, \"次\")\n",
        "    i = i + 1"
      ]
    }
  ]
}