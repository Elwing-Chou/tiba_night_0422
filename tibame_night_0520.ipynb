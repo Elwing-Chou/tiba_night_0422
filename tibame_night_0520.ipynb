{
  "nbformat": 4,
  "nbformat_minor": 0,
  "metadata": {
    "colab": {
      "provenance": [],
      "authorship_tag": "ABX9TyNx59aQKvyfKqWc9n5sDeX7",
      "include_colab_link": true
    },
    "kernelspec": {
      "name": "python3",
      "display_name": "Python 3"
    },
    "language_info": {
      "name": "python"
    }
  },
  "cells": [
    {
      "cell_type": "markdown",
      "metadata": {
        "id": "view-in-github",
        "colab_type": "text"
      },
      "source": [
        "<a href=\"https://colab.research.google.com/github/Elwing-Chou/tiba_night_0422/blob/main/tibame_night_0520.ipynb\" target=\"_parent\"><img src=\"https://colab.research.google.com/assets/colab-badge.svg\" alt=\"Open In Colab\"/></a>"
      ]
    },
    {
      "cell_type": "code",
      "execution_count": 8,
      "metadata": {
        "colab": {
          "base_uri": "https://localhost:8080/"
        },
        "id": "i4c2nIt-aL5m",
        "outputId": "82d822be-6977-42ff-bc64-42c4424331d6"
      },
      "outputs": [
        {
          "output_type": "stream",
          "name": "stdout",
          "text": [
            "Bon.nu\n",
            "https://tabelog.com/tw/tokyo/A1304/A130401/13184186/\n",
            "------------------------------\n",
            "AIGRE DOUCE\n",
            "https://tabelog.com/tw/tokyo/A1305/A130502/13005641/\n",
            "------------------------------\n",
            "a tes souhaits!\n",
            "https://tabelog.com/tw/tokyo/A1320/A132001/13005853/\n",
            "------------------------------\n",
            "L'Atelier à Ma Façon\n",
            "https://tabelog.com/tw/tokyo/A1317/A131715/13242556/\n",
            "------------------------------\n",
            "Patisserie Ryoko\n",
            "https://tabelog.com/tw/tokyo/A1316/A131603/13137010/\n",
            "------------------------------\n",
            "GELATERIA ACQUOLINA\n",
            "https://tabelog.com/tw/tokyo/A1317/A131701/13141364/\n",
            "------------------------------\n",
            "Ikkou An\n",
            "https://tabelog.com/tw/tokyo/A1323/A132302/13005076/\n",
            "------------------------------\n",
            "patisserie Paris S'eveille\n",
            "https://tabelog.com/tw/tokyo/A1317/A131703/13005198/\n",
            "------------------------------\n",
            "Avranches Guesnay\n",
            "https://tabelog.com/tw/tokyo/A1310/A131004/13186450/\n",
            "------------------------------\n",
            "Frederic Cassel Ginza Mitsukoshi Ten\n",
            "https://tabelog.com/tw/tokyo/A1301/A130101/13116839/\n",
            "------------------------------\n",
            "Au Bon Vieux Temps Oyamadai Ten\n",
            "https://tabelog.com/tw/tokyo/A1317/A131715/13181654/\n",
            "------------------------------\n",
            "Ryoura\n",
            "https://tabelog.com/tw/tokyo/A1317/A131707/13188208/\n",
            "------------------------------\n",
            "patisserie K.ViNCENT\n",
            "https://tabelog.com/tw/tokyo/A1309/A130905/13035194/\n",
            "------------------------------\n",
            "Gelateria Sincerita\n",
            "https://tabelog.com/tw/tokyo/A1319/A131905/13108556/\n",
            "------------------------------\n",
            "Nihonbashi Nagato\n",
            "https://tabelog.com/tw/tokyo/A1302/A130202/13011481/\n",
            "------------------------------\n",
            "LESS by Gabriele Riva & Kanako Sakakura\n",
            "https://tabelog.com/tw/tokyo/A1303/A130302/13274859/\n",
            "------------------------------\n",
            "Okashiya Ucchi\n",
            "https://tabelog.com/tw/tokyo/A1309/A130901/13238644/\n",
            "------------------------------\n",
            "Patisserie Yu Sasage\n",
            "https://tabelog.com/tw/tokyo/A1318/A131809/13155662/\n",
            "------------------------------\n",
            "Think\n",
            "https://tabelog.com/tw/tokyo/A1311/A131105/13283557/\n",
            "------------------------------\n",
            "Usagiya\n",
            "https://tabelog.com/tw/tokyo/A1311/A131101/13003599/\n",
            "------------------------------\n"
          ]
        }
      ],
      "source": [
        "import urllib.request as req\n",
        "# beautifulsoup4\n",
        "import bs4 as bs\n",
        "\n",
        "url = \"https://tabelog.com/tw/tokyo/rstLst/sweets/?SrtT=rt\"\n",
        "resp = req.urlopen(url)\n",
        "content = resp.read()\n",
        "# print(content)\n",
        "# json.loads\n",
        "# html型態轉換: str->區塊型態\n",
        "html = bs.BeautifulSoup(content)\n",
        "rlist = html.find_all(\"div\", {\"class\":\"list-rst__body\"})\n",
        "for r in rlist:\n",
        "    en = r.find(\"a\", {\"class\":\"list-rst__rst-name-target\"})\n",
        "    en_text = en.text\n",
        "    en_href = en[\"href\"]\n",
        "    print(en_text)\n",
        "    print(en_href)\n",
        "    # 評價/晚間價錢/午間價錢/哪天沒開\n",
        "    print(\"-\" * 30)"
      ]
    }
  ]
}