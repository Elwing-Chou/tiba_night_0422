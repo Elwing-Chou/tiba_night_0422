{
  "nbformat": 4,
  "nbformat_minor": 0,
  "metadata": {
    "colab": {
      "provenance": [],
      "authorship_tag": "ABX9TyPbXJ++lQ3KfnQ6rKqPvtNI",
      "include_colab_link": true
    },
    "kernelspec": {
      "name": "python3",
      "display_name": "Python 3"
    },
    "language_info": {
      "name": "python"
    }
  },
  "cells": [
    {
      "cell_type": "markdown",
      "metadata": {
        "id": "view-in-github",
        "colab_type": "text"
      },
      "source": [
        "<a href=\"https://colab.research.google.com/github/Elwing-Chou/tiba_night_0422/blob/main/tibame_night_0520.ipynb\" target=\"_parent\"><img src=\"https://colab.research.google.com/assets/colab-badge.svg\" alt=\"Open In Colab\"/></a>"
      ]
    },
    {
      "cell_type": "code",
      "execution_count": null,
      "metadata": {
        "id": "i4c2nIt-aL5m"
      },
      "outputs": [],
      "source": [
        "import urllib.request as req\n",
        "# beautifulsoup4\n",
        "import bs4 as bs\n",
        "\n",
        "url = \"https://tabelog.com/tw/tokyo/rstLst/sweets/?SrtT=rt\"\n",
        "resp = req.urlopen(url)\n",
        "content = resp.read()\n",
        "# print(content)\n",
        "# json.loads\n",
        "# html型態轉換: str->區塊型態\n",
        "html = bs.BeautifulSoup(content)"
      ]
    }
  ]
}