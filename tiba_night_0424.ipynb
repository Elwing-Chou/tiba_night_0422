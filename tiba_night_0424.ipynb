{
  "nbformat": 4,
  "nbformat_minor": 0,
  "metadata": {
    "colab": {
      "provenance": [],
      "authorship_tag": "ABX9TyObVNP/yeKAS2lnsU7TqW6E",
      "include_colab_link": true
    },
    "kernelspec": {
      "name": "python3",
      "display_name": "Python 3"
    },
    "language_info": {
      "name": "python"
    }
  },
  "cells": [
    {
      "cell_type": "markdown",
      "metadata": {
        "id": "view-in-github",
        "colab_type": "text"
      },
      "source": [
        "<a href=\"https://colab.research.google.com/github/Elwing-Chou/tiba_night_0422/blob/main/tiba_night_0424.ipynb\" target=\"_parent\"><img src=\"https://colab.research.google.com/assets/colab-badge.svg\" alt=\"Open In Colab\"/></a>"
      ]
    },
    {
      "cell_type": "markdown",
      "source": [
        "\n",
        "\n",
        "```\n",
        "!!!! 想好再下筆\n",
        "* 想好問題的核心邏輯\n",
        "* 有隱含大小關係: 整數\n",
        "\n",
        "你只要使用到不同的.py\n",
        "你都要先import\n",
        "\n",
        "import 檔案名字\n",
        "照抄一遍import後面.(的)功能\n",
        "\n",
        "* 除了最內建: https://docs.python.org/3/library/functions.html 以外都要import\n",
        "\n",
        "清單型態(list): trans = [\"xxx\", \"xxx\", \"xxx\"]\n",
        "python在你創造清單的時候, 就會給這些東西一個代號(key): 0  1  2\n",
        "\n",
        "key-value(查詢)操作: 查東西[key]  trans[0]\n",
        "\n",
        "```\n",
        "\n"
      ],
      "metadata": {
        "id": "7MsWBYASfaH9"
      }
    },
    {
      "cell_type": "code",
      "execution_count": 14,
      "metadata": {
        "colab": {
          "base_uri": "https://localhost:8080/"
        },
        "id": "PRbA-IFqeosa",
        "outputId": "9b13c45c-73d9-4539-c9f6-a5e97e7f5e75"
      },
      "outputs": [
        {
          "output_type": "stream",
          "name": "stdout",
          "text": [
            "0.剪刀 1.石頭 2.布:0\n",
            "我出的 剪刀\n",
            "電腦的 石頭\n"
          ]
        }
      ],
      "source": [
        "import random\n",
        "\n",
        "my = int(input(\"0.剪刀 1.石頭 2.布:\"))\n",
        "com = random.randint(0, 2)\n",
        "\n",
        "trans = [\"剪刀\", \"石頭\", \"布\"]\n",
        "print(\"我出的\", trans[my])\n",
        "print(\"電腦的\", trans[com])"
      ]
    },
    {
      "cell_type": "code",
      "source": [
        "s = \"apple\"\n",
        "s[4]"
      ],
      "metadata": {
        "colab": {
          "base_uri": "https://localhost:8080/",
          "height": 158
        },
        "id": "9B8leruDm_bd",
        "outputId": "815e00c4-d1e3-440e-a8bb-2a2445d9ffa3"
      },
      "execution_count": 12,
      "outputs": [
        {
          "output_type": "error",
          "ename": "IndexError",
          "evalue": "string index out of range",
          "traceback": [
            "\u001b[0;31m---------------------------------------------------------------------------\u001b[0m",
            "\u001b[0;31mIndexError\u001b[0m                                Traceback (most recent call last)",
            "\u001b[0;32m<ipython-input-12-fb0d67124b65>\u001b[0m in \u001b[0;36m<cell line: 0>\u001b[0;34m()\u001b[0m\n\u001b[1;32m      1\u001b[0m \u001b[0ms\u001b[0m \u001b[0;34m=\u001b[0m \u001b[0;34m\"apple\"\u001b[0m\u001b[0;34m\u001b[0m\u001b[0;34m\u001b[0m\u001b[0m\n\u001b[0;32m----> 2\u001b[0;31m \u001b[0ms\u001b[0m\u001b[0;34m[\u001b[0m\u001b[0;36m5\u001b[0m\u001b[0;34m]\u001b[0m\u001b[0;34m\u001b[0m\u001b[0;34m\u001b[0m\u001b[0m\n\u001b[0m",
            "\u001b[0;31mIndexError\u001b[0m: string index out of range"
          ]
        }
      ]
    }
  ]
}