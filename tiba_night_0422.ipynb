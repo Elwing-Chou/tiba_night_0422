{
  "nbformat": 4,
  "nbformat_minor": 0,
  "metadata": {
    "colab": {
      "provenance": [],
      "authorship_tag": "ABX9TyOeh8mb1yw5A8ZPNtyjOMNf",
      "include_colab_link": true
    },
    "kernelspec": {
      "name": "python3",
      "display_name": "Python 3"
    },
    "language_info": {
      "name": "python"
    }
  },
  "cells": [
    {
      "cell_type": "markdown",
      "metadata": {
        "id": "view-in-github",
        "colab_type": "text"
      },
      "source": [
        "<a href=\"https://colab.research.google.com/github/Elwing-Chou/tiba_night_0422/blob/main/tiba_night_0422.ipynb\" target=\"_parent\"><img src=\"https://colab.research.google.com/assets/colab-badge.svg\" alt=\"Open In Colab\"/></a>"
      ]
    },
    {
      "cell_type": "markdown",
      "source": [
        "\n",
        "\n",
        "```\n",
        "1. 標準python: .py 第一行到最後一行\n",
        "2. 依賴於python的工具庫(jupyter): .ipynb 部分執行\n",
        "\n",
        "colab: 線上版本的jupyter notebook\n",
        "\n",
        "\n",
        "安裝本地端:\n",
        "1. 翻譯器: Python 3.13...\n",
        "2. 輔助工具:  Pycharm(O)/VSCode\n",
        "\n",
        "Anaconda: 翻譯器/輔助工具/常用函式庫\n",
        "```\n",
        "\n"
      ],
      "metadata": {
        "id": "FdJ6uK2fQJc4"
      }
    },
    {
      "cell_type": "code",
      "execution_count": null,
      "metadata": {
        "id": "sEqgDTkJPbQ3"
      },
      "outputs": [],
      "source": []
    }
  ]
}