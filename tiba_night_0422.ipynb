{
  "nbformat": 4,
  "nbformat_minor": 0,
  "metadata": {
    "colab": {
      "provenance": [],
      "authorship_tag": "ABX9TyOtN82sXfgdzNsd6Ob9FPG5",
      "include_colab_link": true
    },
    "kernelspec": {
      "name": "python3",
      "display_name": "Python 3"
    },
    "language_info": {
      "name": "python"
    }
  },
  "cells": [
    {
      "cell_type": "markdown",
      "metadata": {
        "id": "view-in-github",
        "colab_type": "text"
      },
      "source": [
        "<a href=\"https://colab.research.google.com/github/Elwing-Chou/tiba_night_0422/blob/main/tiba_night_0422.ipynb\" target=\"_parent\"><img src=\"https://colab.research.google.com/assets/colab-badge.svg\" alt=\"Open In Colab\"/></a>"
      ]
    },
    {
      "cell_type": "markdown",
      "source": [
        "\n",
        "\n",
        "```\n",
        "1. 標準python: .py 第一行到最後一行\n",
        "2. 依賴於python的工具庫(jupyter): .ipynb 部分執行\n",
        "\n",
        "colab: 線上版本的jupyter notebook\n",
        "\n",
        "\n",
        "安裝本地端:\n",
        "1. 翻譯器: Python 3.13...\n",
        "2. 輔助工具:  Pycharm(O)/VSCode\n",
        "\n",
        "Anaconda: 翻譯器/輔助工具/常用函式庫\n",
        "```\n",
        "\n"
      ],
      "metadata": {
        "id": "FdJ6uK2fQJc4"
      }
    },
    {
      "cell_type": "markdown",
      "source": [
        "\n",
        "\n",
        "```\n",
        "BMI程式\n",
        "\n",
        "1. 讓使用者輸入\n",
        "2. 根據輸入計算\n",
        "3. 給出建議\n",
        "\n",
        "0. 註解: # xxxx\n",
        "1. 功能: print(參數)\n",
        "   就算這功能沒有參數 功能()\n",
        "2. 絕對不能重複寫\n",
        "3. =: 取代/是    名稱 = 值\n",
        "   a. 5 == 3 + 2(是否左右相等?)\n",
        "   b. x = 2(取代)\n",
        "\n",
        "4. 型態:\n",
        "   a. 數字: 細分兩種 int(整數) float(小數)\n",
        "      ** 小數計算偏差是不用理會的\n",
        "   b. 字串: str   \"aaasfawf\"\n",
        "      ** 電話->字串\n",
        "\n",
        "5. 運算的時候 左右型態基本上要一致\n",
        "6. !!!! 型態轉換: int() float() str()\n",
        "7. input(字串)\n",
        "   a. 參數: 提示字串\n",
        "   b. 回傳值: 做完這功能以後丟回來的\"新的\"答案(check type: str)\n",
        "\n",
        "8. 如果...否則\n",
        "if bmi > 25:\n",
        "    print()\n",
        "else:\n",
        "    print()\n",
        "\n",
        "強制排版(縮排)(劇本排版法)\n",
        "兩個符號構成 1. 冒號 2. Tab\n",
        "Elwing:\n",
        "    mxxxxx\n",
        "Amy:\n",
        "    xxx\n",
        "\n",
        "9. 多個ifelse(如果 否則如果 否則)\n",
        "單(篩選)選題: 嚴格放上\n",
        "\n",
        "if bmi > 25:\n",
        "    print()\n",
        "elif bmi > 18:\n",
        "    print()\n",
        "else:\n",
        "    print()\n",
        "```\n",
        "\n"
      ],
      "metadata": {
        "id": "AdIrrsXsYHvJ"
      }
    },
    {
      "cell_type": "code",
      "execution_count": 28,
      "metadata": {
        "id": "sEqgDTkJPbQ3",
        "colab": {
          "base_uri": "https://localhost:8080/"
        },
        "outputId": "201a97ff-8726-40df-fe72-86c142346ea4"
      },
      "outputs": [
        {
          "output_type": "stream",
          "name": "stdout",
          "text": [
            "請輸入體重(kg):72\n",
            "請輸入身高(cm):173\n",
            "輸入的體重是:72.0\n",
            "輸入的身高是:173.0\n",
            "bmi是:24.0569347455645\n",
            "正常\n",
            "!!!!!!!!!!\n"
          ]
        }
      ],
      "source": [
        "# bmi = 體重(kg) / 身高(m) ^ 2\n",
        "weight = float(input(\"請輸入體重(kg):\"))\n",
        "height = float(input(\"請輸入身高(cm):\"))\n",
        "bmi = weight / (height / 100) ** 2\n",
        "\n",
        "print(\"輸入的體重是:\" + str(weight))\n",
        "print(\"輸入的身高是:\" + str(height))\n",
        "print(\"bmi是:\" + str(bmi))\n",
        "\n",
        "if bmi > 25:\n",
        "    print(\"過重\")\n",
        "    print(\"要注意\")\n",
        "else:\n",
        "    print(\"正常\")\n",
        "print(\"!!!!!!!!!!\")"
      ]
    },
    {
      "cell_type": "code",
      "source": [
        "# bmi = 體重(kg) / 身高(m) ^ 2\n",
        "weight = float(input(\"請輸入體重(kg):\"))\n",
        "height = float(input(\"請輸入身高(cm):\"))\n",
        "bmi = weight / (height / 100) ** 2\n",
        "\n",
        "print(\"輸入的體重是:\" + str(weight))\n",
        "print(\"輸入的身高是:\" + str(height))\n",
        "print(\"bmi是:\" + str(bmi))\n",
        "\n",
        "if bmi > 25:\n",
        "    print(\"過重\")\n",
        "elif bmi > 18:\n",
        "    print(\"正常\")\n",
        "else:\n",
        "    print(\"過輕\")"
      ],
      "metadata": {
        "colab": {
          "base_uri": "https://localhost:8080/"
        },
        "id": "IxpyqQKtt_Dh",
        "outputId": "614ffffa-a770-4b59-bfa1-854af2bdc30d"
      },
      "execution_count": 30,
      "outputs": [
        {
          "output_type": "stream",
          "name": "stdout",
          "text": [
            "請輸入體重(kg):50\n",
            "請輸入身高(cm):175\n",
            "輸入的體重是:50.0\n",
            "輸入的身高是:175.0\n",
            "bmi是:16.3265306122449\n",
            "過輕\n"
          ]
        }
      ]
    },
    {
      "cell_type": "code",
      "source": [
        "# 值基本上不會變, 只有你=的時候才會改變值\n",
        "a = 4.6\n",
        "b = int(a)\n",
        "print(a)\n",
        "print(b)"
      ],
      "metadata": {
        "colab": {
          "base_uri": "https://localhost:8080/"
        },
        "id": "KbBPxgvolMiG",
        "outputId": "2808ab4f-1798-41a2-dea5-5ec2e59d2014"
      },
      "execution_count": 17,
      "outputs": [
        {
          "output_type": "stream",
          "name": "stdout",
          "text": [
            "4.6\n",
            "4\n"
          ]
        }
      ]
    },
    {
      "cell_type": "markdown",
      "source": [
        "\n",
        "```\n",
        "聽聽就好\n",
        "\n",
        "1. 數數(十進位): 0 1 2 3...9  10 11   20\n",
        "2. 數數(四進為): 0 1 2 3 10 11 12 13 20\n",
        "3.     (二進位): 0 1 10 11 100\n",
        "\n",
        "小數估計值? 誤差?\n",
        "pizza / 3\n",
        "十進位: 0.333333333333\n",
        "三進位: 0.1\n",
        "\n",
        "```\n"
      ],
      "metadata": {
        "id": "LRSAJkuBdfOo"
      }
    },
    {
      "cell_type": "code",
      "source": [
        "3 + 3.14"
      ],
      "metadata": {
        "colab": {
          "base_uri": "https://localhost:8080/"
        },
        "id": "cpQ2ya8fc_NA",
        "outputId": "4e3bed3a-56c2-4af4-dbb7-df0be98f900a"
      },
      "execution_count": 10,
      "outputs": [
        {
          "output_type": "execute_result",
          "data": {
            "text/plain": [
              "6.140000000000001"
            ]
          },
          "metadata": {},
          "execution_count": 10
        }
      ]
    }
  ]
}