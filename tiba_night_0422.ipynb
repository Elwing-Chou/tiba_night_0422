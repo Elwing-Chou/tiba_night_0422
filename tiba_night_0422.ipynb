{
  "nbformat": 4,
  "nbformat_minor": 0,
  "metadata": {
    "colab": {
      "provenance": [],
      "authorship_tag": "ABX9TyOJGfQ63i2vBh5STAfWidPc",
      "include_colab_link": true
    },
    "kernelspec": {
      "name": "python3",
      "display_name": "Python 3"
    },
    "language_info": {
      "name": "python"
    }
  },
  "cells": [
    {
      "cell_type": "markdown",
      "metadata": {
        "id": "view-in-github",
        "colab_type": "text"
      },
      "source": [
        "<a href=\"https://colab.research.google.com/github/Elwing-Chou/tiba_night_0422/blob/main/tiba_night_0422.ipynb\" target=\"_parent\"><img src=\"https://colab.research.google.com/assets/colab-badge.svg\" alt=\"Open In Colab\"/></a>"
      ]
    },
    {
      "cell_type": "markdown",
      "source": [
        "\n",
        "\n",
        "```\n",
        "1. 標準python: .py 第一行到最後一行\n",
        "2. 依賴於python的工具庫(jupyter): .ipynb 部分執行\n",
        "\n",
        "colab: 線上版本的jupyter notebook\n",
        "\n",
        "\n",
        "安裝本地端:\n",
        "1. 翻譯器: Python 3.13...\n",
        "2. 輔助工具:  Pycharm(O)/VSCode\n",
        "\n",
        "Anaconda: 翻譯器/輔助工具/常用函式庫\n",
        "```\n",
        "\n"
      ],
      "metadata": {
        "id": "FdJ6uK2fQJc4"
      }
    },
    {
      "cell_type": "markdown",
      "source": [
        "\n",
        "\n",
        "```\n",
        "BMI程式\n",
        "\n",
        "1. 讓使用者輸入\n",
        "2. 根據輸入計算\n",
        "3. 給出建議\n",
        "\n",
        "0. 註解: # xxxx\n",
        "1. 功能: print(參數)\n",
        "   就算這功能沒有參數 功能()\n",
        "2. 絕對不能重複寫\n",
        "3. =: 取代/是    名稱 = 值\n",
        "   a. 5 == 3 + 2(是否左右相等?)\n",
        "   b. x = 2(取代)\n",
        "```\n",
        "\n"
      ],
      "metadata": {
        "id": "AdIrrsXsYHvJ"
      }
    },
    {
      "cell_type": "code",
      "execution_count": 6,
      "metadata": {
        "id": "sEqgDTkJPbQ3",
        "colab": {
          "base_uri": "https://localhost:8080/"
        },
        "outputId": "e78ce32c-c050-4577-d1d3-19e1befc9b5b"
      },
      "outputs": [
        {
          "output_type": "stream",
          "name": "stdout",
          "text": [
            "73\n",
            "175\n",
            "23.836734693877553\n"
          ]
        }
      ],
      "source": [
        "# bmi = 體重(kg) / 身高(m) ^ 2\n",
        "weight = 73\n",
        "height = 175\n",
        "print(weight)\n",
        "print(height)\n",
        "print(weight / (height / 100) ** 2)"
      ]
    }
  ]
}