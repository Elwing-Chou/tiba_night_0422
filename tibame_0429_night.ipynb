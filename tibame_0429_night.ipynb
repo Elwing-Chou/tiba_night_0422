{
  "nbformat": 4,
  "nbformat_minor": 0,
  "metadata": {
    "colab": {
      "provenance": [],
      "authorship_tag": "ABX9TyPskIJE/o3XGYOi9gng+s67",
      "include_colab_link": true
    },
    "kernelspec": {
      "name": "python3",
      "display_name": "Python 3"
    },
    "language_info": {
      "name": "python"
    }
  },
  "cells": [
    {
      "cell_type": "markdown",
      "metadata": {
        "id": "view-in-github",
        "colab_type": "text"
      },
      "source": [
        "<a href=\"https://colab.research.google.com/github/Elwing-Chou/tiba_night_0422/blob/main/tibame_0429_night.ipynb\" target=\"_parent\"><img src=\"https://colab.research.google.com/assets/colab-badge.svg\" alt=\"Open In Colab\"/></a>"
      ]
    },
    {
      "cell_type": "markdown",
      "source": [
        "\n",
        "\n",
        "```\n",
        "o\n",
        "oo\n",
        "ooo\n",
        "oooo\n",
        "```\n",
        "\n"
      ],
      "metadata": {
        "id": "e23frwvfOzMB"
      }
    },
    {
      "cell_type": "code",
      "execution_count": 4,
      "metadata": {
        "colab": {
          "base_uri": "https://localhost:8080/"
        },
        "id": "499K3zQoOTm-",
        "outputId": "18a20cbe-f2f6-4b52-e0d3-882383aa4cbc"
      },
      "outputs": [
        {
          "output_type": "stream",
          "name": "stdout",
          "text": [
            "o\n",
            "oo\n",
            "ooo\n",
            "oooo\n",
            "ooooo\n",
            "oooooo\n",
            "ooooooo\n",
            "oooooooo\n",
            "ooooooooo\n",
            "oooooooooo\n"
          ]
        }
      ],
      "source": [
        "i = 0\n",
        "while i < 10:\n",
        "    print(\"o\" * (i + 1))\n",
        "    i = i + 1"
      ]
    },
    {
      "cell_type": "code",
      "source": [
        "print(\"abc\" * 4)\n",
        "print([20, 30] * 4)"
      ],
      "metadata": {
        "colab": {
          "base_uri": "https://localhost:8080/"
        },
        "id": "mQDygc6OO8RJ",
        "outputId": "986a22f9-53e3-4b2d-b328-df3a2489793c"
      },
      "execution_count": 2,
      "outputs": [
        {
          "output_type": "stream",
          "name": "stdout",
          "text": [
            "abcabcabcabc\n",
            "[20, 30, 20, 30, 20, 30, 20, 30]\n"
          ]
        }
      ]
    }
  ]
}