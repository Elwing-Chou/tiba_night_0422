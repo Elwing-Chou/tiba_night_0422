{
  "nbformat": 4,
  "nbformat_minor": 0,
  "metadata": {
    "colab": {
      "provenance": [],
      "authorship_tag": "ABX9TyMknhXexLYKr9p33M2nliJr",
      "include_colab_link": true
    },
    "kernelspec": {
      "name": "python3",
      "display_name": "Python 3"
    },
    "language_info": {
      "name": "python"
    }
  },
  "cells": [
    {
      "cell_type": "markdown",
      "metadata": {
        "id": "view-in-github",
        "colab_type": "text"
      },
      "source": [
        "<a href=\"https://colab.research.google.com/github/Elwing-Chou/tiba_night_0422/blob/main/tibame_night_0515_2.ipynb\" target=\"_parent\"><img src=\"https://colab.research.google.com/assets/colab-badge.svg\" alt=\"Open In Colab\"/></a>"
      ]
    },
    {
      "cell_type": "markdown",
      "source": [
        "\n",
        "\n",
        "```\n",
        "HTML格式: 一塊一塊長方形(區塊)構成\n",
        "\n",
        "<a href=\"網址\"> -> start\n",
        "    xxxxx\n",
        "</a> -> end\n",
        "\n",
        "1. 名稱: 決定是什麼東西\n",
        "a: 超連結   img: 圖片   video: 影片\n",
        "\n",
        "2. 屬性: 決定這東西的一些細節\n",
        "a href=\"網址\"\n",
        "img/video src=\"網址\"\n",
        "\n",
        "3. 顯示文字\n",
        "\n",
        "```\n",
        "\n"
      ],
      "metadata": {
        "id": "ix3EVt-Q2wwP"
      }
    },
    {
      "cell_type": "code",
      "execution_count": null,
      "metadata": {
        "id": "yps-_i262tte"
      },
      "outputs": [],
      "source": []
    }
  ]
}