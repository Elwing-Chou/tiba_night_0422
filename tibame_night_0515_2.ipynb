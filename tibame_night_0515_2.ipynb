{
  "nbformat": 4,
  "nbformat_minor": 0,
  "metadata": {
    "colab": {
      "provenance": [],
      "authorship_tag": "ABX9TyP2vhaiTYwQcBcTrdMsVtch",
      "include_colab_link": true
    },
    "kernelspec": {
      "name": "python3",
      "display_name": "Python 3"
    },
    "language_info": {
      "name": "python"
    }
  },
  "cells": [
    {
      "cell_type": "markdown",
      "metadata": {
        "id": "view-in-github",
        "colab_type": "text"
      },
      "source": [
        "<a href=\"https://colab.research.google.com/github/Elwing-Chou/tiba_night_0422/blob/main/tibame_night_0515_2.ipynb\" target=\"_parent\"><img src=\"https://colab.research.google.com/assets/colab-badge.svg\" alt=\"Open In Colab\"/></a>"
      ]
    },
    {
      "cell_type": "markdown",
      "source": [
        "\n",
        "\n",
        "```\n",
        "HTML格式: 一塊一塊長方形(區塊)構成\n",
        "\n",
        "<a href=\"網址\"> -> start\n",
        "    xxxxx\n",
        "</a> -> end\n",
        "\n",
        "1. 名稱: 決定是什麼東西\n",
        "a: 超連結   img: 圖片   video: 影片\n",
        "\n",
        "2. 屬性: 決定這東西的一些細節\n",
        "a href=\"網址\"\n",
        "img/video src=\"網址\"\n",
        "\n",
        "3. 顯示文字\n",
        "\n",
        "```\n",
        "\n"
      ],
      "metadata": {
        "id": "ix3EVt-Q2wwP"
      }
    },
    {
      "cell_type": "markdown",
      "source": [
        "\n",
        "\n",
        "```\n",
        "前端: 你看到的東西\n",
        "1. HTML: 內容\n",
        "2. CSS: 排版\n",
        "3. JavaScript: 動態\n",
        "\n",
        "後端: 如何處理你丟過去的網址\n",
        "(網址的處理/資料庫的查詢)\n",
        "\n",
        "CSS: 找到HTML對應的區塊, 加上規則\n",
        "1. HTML名字\n",
        "a{\n",
        "    background-color:red\n",
        "}\n",
        "\n",
        "幫這些超連結加上一些跟別人不一樣的\"屬性\"\n",
        "class=\"分類1 分類2 分類3\"\n",
        "\n",
        "2. class屬性\n",
        ".class名字{\n",
        "}\n",
        "\n",
        "id=\"值\"\n",
        "3. id屬性\n",
        "#id{\n",
        "}\n",
        "\n",
        "```\n",
        "\n"
      ],
      "metadata": {
        "id": "hhsqqFQL8qnV"
      }
    },
    {
      "cell_type": "code",
      "execution_count": 4,
      "metadata": {
        "colab": {
          "base_uri": "https://localhost:8080/"
        },
        "id": "yps-_i262tte",
        "outputId": "dd6cab44-a80b-4851-a034-8da68d0a02c3"
      },
      "outputs": [
        {
          "output_type": "execute_result",
          "data": {
            "text/plain": [
              "<a class=\"list-rst__rst-name-target cpy-rst-name\" data-list-dest=\"item_top\" href=\"https://tabelog.com/tw/tokyo/A1304/A130401/13184186/\" rel=\"noopener\" target=\"_blank\">Bon.nu</a>"
            ]
          },
          "metadata": {},
          "execution_count": 4
        }
      ],
      "source": [
        "import urllib.request as req\n",
        "# beautifulsoup4\n",
        "import bs4 as bs\n",
        "\n",
        "url = \"https://tabelog.com/tw/tokyo/rstLst/sweets/?SrtT=rt\"\n",
        "resp = req.urlopen(url)\n",
        "content = resp.read()\n",
        "# print(content)\n",
        "# json.loads\n",
        "# html型態轉換: str->區塊型態\n",
        "html = bs.BeautifulSoup(content)\n",
        "# 只要你是\"區塊型態\" 1. find  2. find_all  (html名稱, 篩選條件class)\n",
        "html.find(\"a\", {\"class\":\"list-rst__rst-name-target\"})"
      ]
    },
    {
      "cell_type": "code",
      "source": [],
      "metadata": {
        "id": "qFGj1QZh8ok-"
      },
      "execution_count": null,
      "outputs": []
    }
  ]
}