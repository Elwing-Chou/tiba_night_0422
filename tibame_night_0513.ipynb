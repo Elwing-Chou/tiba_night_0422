{
  "nbformat": 4,
  "nbformat_minor": 0,
  "metadata": {
    "colab": {
      "provenance": [],
      "authorship_tag": "ABX9TyMqU1S9EFAS5kIuxmvtfKm9",
      "include_colab_link": true
    },
    "kernelspec": {
      "name": "python3",
      "display_name": "Python 3"
    },
    "language_info": {
      "name": "python"
    }
  },
  "cells": [
    {
      "cell_type": "markdown",
      "metadata": {
        "id": "view-in-github",
        "colab_type": "text"
      },
      "source": [
        "<a href=\"https://colab.research.google.com/github/Elwing-Chou/tiba_night_0422/blob/main/tibame_night_0513.ipynb\" target=\"_parent\"><img src=\"https://colab.research.google.com/assets/colab-badge.svg\" alt=\"Open In Colab\"/></a>"
      ]
    },
    {
      "cell_type": "markdown",
      "source": [
        "\n",
        "\n",
        "```\n",
        "\n",
        "字典(dict): 聚合很多小單位變成一個複雜的資料\n",
        "\n",
        "* 字典的key是你自訂的(數字/字串)\n",
        "* 標準字典是沒有順序(key不會是0123...)\n",
        "```\n",
        "\n"
      ],
      "metadata": {
        "id": "T2N9sSHKVOoc"
      }
    },
    {
      "cell_type": "code",
      "execution_count": 4,
      "metadata": {
        "colab": {
          "base_uri": "https://localhost:8080/"
        },
        "id": "pRih49FlVL_4",
        "outputId": "7f0dd59d-b9ed-4e27-8675-3fe27057e3cb"
      },
      "outputs": [
        {
          "output_type": "stream",
          "name": "stdout",
          "text": [
            "{'姓名': 'Elwing', '身高': 175}\n",
            "175\n",
            "{'姓名': 'Bob', '身高': 175, '體重': 74}\n",
            "{'姓名': 'Bob', '身高': 175, '體重': 76}\n"
          ]
        }
      ],
      "source": [
        "student = {\n",
        "    \"姓名\":\"Elwing\",\n",
        "    \"身高\":175\n",
        "}\n",
        "print(student)\n",
        "\n",
        "# 查東西[key]\n",
        "print(student[\"身高\"])\n",
        "\n",
        "student[\"姓名\"] = \"Bob\"\n",
        "student[\"體重\"] = 74\n",
        "print(student)\n",
        "\n",
        "student[\"體重\"] = student[\"體重\"] + 2\n",
        "print(student)"
      ]
    },
    {
      "cell_type": "markdown",
      "source": [
        "\n",
        "\n",
        "```\n",
        "list的操作\n",
        "```\n",
        "\n"
      ],
      "metadata": {
        "id": "6Gi0pgzeYv43"
      }
    },
    {
      "cell_type": "code",
      "source": [
        "scores = [30, 50, 70, 80]\n",
        "\n",
        "print(scores[2])\n",
        "\n",
        "print(sum(scores), max(scores), min(scores))\n",
        "# !!!\n",
        "print(len(scores))\n",
        "# print(scores[len(scores)-1])\n",
        "# python 除了給你 0 1 2 3 這組key以外\n",
        "# 還給了第二組   -4 -3 -2 -1\n",
        "print(scores[-1])"
      ],
      "metadata": {
        "colab": {
          "base_uri": "https://localhost:8080/"
        },
        "id": "bHli4NLVYy7Y",
        "outputId": "8dd9b98c-1699-4cd1-c83d-158e36ddca27"
      },
      "execution_count": 8,
      "outputs": [
        {
          "output_type": "stream",
          "name": "stdout",
          "text": [
            "70\n",
            "230 80 30\n",
            "4\n",
            "80\n"
          ]
        }
      ]
    },
    {
      "cell_type": "code",
      "source": [
        "scores = [80, 30, 66, 20]\n",
        "\n",
        "count = 0\n",
        "i = 0\n",
        "while i < len(scores):\n",
        "    s = scores[i]\n",
        "    if s >= 60:\n",
        "        count = count + 1\n",
        "    i = i + 1\n",
        "print(count)"
      ],
      "metadata": {
        "colab": {
          "base_uri": "https://localhost:8080/"
        },
        "id": "fxp7_PNTaOQF",
        "outputId": "db88d66e-b130-4f48-9f0f-3891b2ee0be2"
      },
      "execution_count": 9,
      "outputs": [
        {
          "output_type": "stream",
          "name": "stdout",
          "text": [
            "2\n"
          ]
        }
      ]
    },
    {
      "cell_type": "code",
      "source": [
        "# for ... in: 走過\n",
        "# for 名稱 in 群(str/list/dict)\n",
        "scores = [80, 30, 66, 20]\n",
        "\n",
        "count = 0\n",
        "for s in scores:\n",
        "    if s >= 60:\n",
        "        count = count + 1\n",
        "print(count)"
      ],
      "metadata": {
        "colab": {
          "base_uri": "https://localhost:8080/"
        },
        "id": "roRMtGO0cK0A",
        "outputId": "7d9c2d68-9004-4550-f05f-de473f17c4a9"
      },
      "execution_count": 10,
      "outputs": [
        {
          "output_type": "stream",
          "name": "stdout",
          "text": [
            "2\n"
          ]
        }
      ]
    },
    {
      "cell_type": "code",
      "source": [
        "total = 0\n",
        "i = 0\n",
        "while i < 10:\n",
        "    total = total + (i + 1)\n",
        "    print(total)\n",
        "    i = i + 1"
      ],
      "metadata": {
        "id": "qVnx1KoKeINz"
      },
      "execution_count": null,
      "outputs": []
    },
    {
      "cell_type": "code",
      "source": [
        "# range(5) -> [0, 1, 2, 3, 4]\n",
        "# range(2, 5) -> [2, 3, 4]\n",
        "total = 0\n",
        "for i in range(10):\n",
        "    total = total + (i + 1)\n",
        "    print(total)"
      ],
      "metadata": {
        "colab": {
          "base_uri": "https://localhost:8080/"
        },
        "id": "iEH5ooNVeycY",
        "outputId": "0ab2acce-b87d-4ba5-c326-fcee961b1119"
      },
      "execution_count": 13,
      "outputs": [
        {
          "output_type": "stream",
          "name": "stdout",
          "text": [
            "1\n",
            "3\n",
            "6\n",
            "10\n",
            "15\n",
            "21\n",
            "28\n",
            "36\n",
            "45\n",
            "55\n"
          ]
        }
      ]
    },
    {
      "cell_type": "markdown",
      "source": [
        "\n",
        "\n",
        "```\n",
        "迴圈sop\n",
        "1. 固定次數: for i in range(次) i=0...次-1\n",
        "2. 走過一群(str/list): for 名稱 in 群\n",
        "3. 其他條件: while True + break\n",
        "\n",
        "\n",
        "```\n",
        "\n"
      ],
      "metadata": {
        "id": "lU2J8TIAguxU"
      }
    },
    {
      "cell_type": "code",
      "source": [
        "import urllib.request as req\n",
        "import json\n",
        "\n",
        "url = \"https://api.gamer.com.tw/anime/v1/danmu.php?videoSn=36632&geo=TW%2CHK\"\n",
        "f = req.urlopen(url)\n",
        "content = f.read()\n",
        "print(type(content))\n",
        "# 型態轉換\n",
        "content_convert = json.loads(content)\n",
        "print(type(content_convert))"
      ],
      "metadata": {
        "colab": {
          "base_uri": "https://localhost:8080/"
        },
        "id": "bd7Ed4gFlVXq",
        "outputId": "514b6478-1727-4cd6-9116-9e45ae46ad24"
      },
      "execution_count": 15,
      "outputs": [
        {
          "output_type": "stream",
          "name": "stdout",
          "text": [
            "<class 'bytes'>\n",
            "<class 'dict'>\n"
          ]
        }
      ]
    }
  ]
}