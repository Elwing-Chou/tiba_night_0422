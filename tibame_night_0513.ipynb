{
  "nbformat": 4,
  "nbformat_minor": 0,
  "metadata": {
    "colab": {
      "provenance": [],
      "authorship_tag": "ABX9TyOYKWFEQXM+4imDzwBh6szZ",
      "include_colab_link": true
    },
    "kernelspec": {
      "name": "python3",
      "display_name": "Python 3"
    },
    "language_info": {
      "name": "python"
    }
  },
  "cells": [
    {
      "cell_type": "markdown",
      "metadata": {
        "id": "view-in-github",
        "colab_type": "text"
      },
      "source": [
        "<a href=\"https://colab.research.google.com/github/Elwing-Chou/tiba_night_0422/blob/main/tibame_night_0513.ipynb\" target=\"_parent\"><img src=\"https://colab.research.google.com/assets/colab-badge.svg\" alt=\"Open In Colab\"/></a>"
      ]
    },
    {
      "cell_type": "markdown",
      "source": [
        "\n",
        "\n",
        "```\n",
        "\n",
        "字典(dict): 聚合很多小單位變成一個複雜的資料\n",
        "\n",
        "* 字典的key是你自訂的(數字/字串)\n",
        "* 標準字典是沒有順序(key不會是0123...)\n",
        "```\n",
        "\n"
      ],
      "metadata": {
        "id": "T2N9sSHKVOoc"
      }
    },
    {
      "cell_type": "code",
      "execution_count": 4,
      "metadata": {
        "colab": {
          "base_uri": "https://localhost:8080/"
        },
        "id": "pRih49FlVL_4",
        "outputId": "7f0dd59d-b9ed-4e27-8675-3fe27057e3cb"
      },
      "outputs": [
        {
          "output_type": "stream",
          "name": "stdout",
          "text": [
            "{'姓名': 'Elwing', '身高': 175}\n",
            "175\n",
            "{'姓名': 'Bob', '身高': 175, '體重': 74}\n",
            "{'姓名': 'Bob', '身高': 175, '體重': 76}\n"
          ]
        }
      ],
      "source": [
        "student = {\n",
        "    \"姓名\":\"Elwing\",\n",
        "    \"身高\":175\n",
        "}\n",
        "print(student)\n",
        "\n",
        "# 查東西[key]\n",
        "print(student[\"身高\"])\n",
        "\n",
        "student[\"姓名\"] = \"Bob\"\n",
        "student[\"體重\"] = 74\n",
        "print(student)\n",
        "\n",
        "student[\"體重\"] = student[\"體重\"] + 2\n",
        "print(student)"
      ]
    }
  ]
}